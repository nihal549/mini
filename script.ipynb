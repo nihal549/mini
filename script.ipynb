{
 "cells": [
  {
   "cell_type": "markdown",
   "metadata": {},
   "source": [
    "text cleaning\n",
    "word tokenization\n",
    "word frequency table\n",
    "sentence tokenization\n",
    "summarization"
   ]
  },
  {
   "cell_type": "code",
   "execution_count": 7,
   "metadata": {},
   "outputs": [],
   "source": [
    "text =\"\"\"There are two general approaches to automatic summarization: extraction and abstraction.\n",
    "Extraction-based summarization\n",
    "Here, content is extracted from the original data, but the extracted content is not modified in any way. Examples of extracted content include key-phrases that can be used to \"tag\" or index a text document, or key sentences (including headings) that collectively comprise an abstract, and representative images or video segments, as stated above. For text, extraction is analogous to the process of skimming, where the summary (if available), headings and subheadings, figures, the first and last paragraphs of a section, and optionally the first and last sentences in a paragraph are read before one chooses to read the entire document in detail.[7] Other examples of extraction that include key sequences of text in terms of clinical relevance (including patient/problem, intervention, and outcome).[8]\n",
    "Abstractive-based summarization\n",
    "Abstractive summarization methods generate new text that did not exist in the original text.[9] This has been applied mainly for text. Abstractive methods build an internal semantic representation of the original content (often called a language model), and then use this representation to create a summary that is closer to what a human might express. Abstraction may transform the extracted content by paraphrasing sections of the source document, to condense a text more strongly than extraction. Such transformation, however, is computationally much more challenging than extraction, involving both natural language processing and often a deep understanding of the domain of the original text in cases where the original document relates to a special field of knowledge. \"Paraphrasing\" is even more difficult to apply to image and video, which is why most summarization systems are extractive.\"\"\""
   ]
  },
  {
   "cell_type": "code",
   "execution_count": 1,
   "metadata": {},
   "outputs": [],
   "source": [
    "import spacy\n",
    "from spacy.lang.en.stop_words import STOP_WORDS\n",
    "from string import punctuation"
   ]
  },
  {
   "cell_type": "code",
   "execution_count": 3,
   "metadata": {},
   "outputs": [],
   "source": [
    "stopwords = STOP_WORDS\n"
   ]
  },
  {
   "cell_type": "code",
   "execution_count": 5,
   "metadata": {},
   "outputs": [],
   "source": [
    "nlp = spacy.load('en_core_web_sm')"
   ]
  },
  {
   "cell_type": "code",
   "execution_count": 10,
   "metadata": {},
   "outputs": [],
   "source": [
    "#word tokenization\n",
    "doc = nlp(text)\n"
   ]
  },
  {
   "cell_type": "code",
   "execution_count": 11,
   "metadata": {},
   "outputs": [
    {
     "name": "stdout",
     "output_type": "stream",
     "text": [
      "['There', 'are', 'two', 'general', 'approaches', 'to', 'automatic', 'summarization', ':', 'extraction', 'and', 'abstraction', '.', '\\n', 'Extraction', '-', 'based', 'summarization', '\\n', 'Here', ',', 'content', 'is', 'extracted', 'from', 'the', 'original', 'data', ',', 'but', 'the', 'extracted', 'content', 'is', 'not', 'modified', 'in', 'any', 'way', '.', 'Examples', 'of', 'extracted', 'content', 'include', 'key', '-', 'phrases', 'that', 'can', 'be', 'used', 'to', '\"', 'tag', '\"', 'or', 'index', 'a', 'text', 'document', ',', 'or', 'key', 'sentences', '(', 'including', 'headings', ')', 'that', 'collectively', 'comprise', 'an', 'abstract', ',', 'and', 'representative', 'images', 'or', 'video', 'segments', ',', 'as', 'stated', 'above', '.', 'For', 'text', ',', 'extraction', 'is', 'analogous', 'to', 'the', 'process', 'of', 'skimming', ',', 'where', 'the', 'summary', '(', 'if', 'available', ')', ',', 'headings', 'and', 'subheadings', ',', 'figures', ',', 'the', 'first', 'and', 'last', 'paragraphs', 'of', 'a', 'section', ',', 'and', 'optionally', 'the', 'first', 'and', 'last', 'sentences', 'in', 'a', 'paragraph', 'are', 'read', 'before', 'one', 'chooses', 'to', 'read', 'the', 'entire', 'document', 'in', 'detail.[7', ']', 'Other', 'examples', 'of', 'extraction', 'that', 'include', 'key', 'sequences', 'of', 'text', 'in', 'terms', 'of', 'clinical', 'relevance', '(', 'including', 'patient', '/', 'problem', ',', 'intervention', ',', 'and', 'outcome).[8', ']', '\\n', 'Abstractive', '-', 'based', 'summarization', '\\n', 'Abstractive', 'summarization', 'methods', 'generate', 'new', 'text', 'that', 'did', 'not', 'exist', 'in', 'the', 'original', 'text.[9', ']', 'This', 'has', 'been', 'applied', 'mainly', 'for', 'text', '.', 'Abstractive', 'methods', 'build', 'an', 'internal', 'semantic', 'representation', 'of', 'the', 'original', 'content', '(', 'often', 'called', 'a', 'language', 'model', ')', ',', 'and', 'then', 'use', 'this', 'representation', 'to', 'create', 'a', 'summary', 'that', 'is', 'closer', 'to', 'what', 'a', 'human', 'might', 'express', '.', 'Abstraction', 'may', 'transform', 'the', 'extracted', 'content', 'by', 'paraphrasing', 'sections', 'of', 'the', 'source', 'document', ',', 'to', 'condense', 'a', 'text', 'more', 'strongly', 'than', 'extraction', '.', 'Such', 'transformation', ',', 'however', ',', 'is', 'computationally', 'much', 'more', 'challenging', 'than', 'extraction', ',', 'involving', 'both', 'natural', 'language', 'processing', 'and', 'often', 'a', 'deep', 'understanding', 'of', 'the', 'domain', 'of', 'the', 'original', 'text', 'in', 'cases', 'where', 'the', 'original', 'document', 'relates', 'to', 'a', 'special', 'field', 'of', 'knowledge', '.', '\"', 'Paraphrasing', '\"', 'is', 'even', 'more', 'difficult', 'to', 'apply', 'to', 'image', 'and', 'video', ',', 'which', 'is', 'why', 'most', 'summarization', 'systems', 'are', 'extractive', '.']\n"
     ]
    }
   ],
   "source": [
    "tokens = [token.text for token in doc]\n",
    "print(tokens)"
   ]
  },
  {
   "cell_type": "code",
   "execution_count": 12,
   "metadata": {},
   "outputs": [],
   "source": [
    "punctuation= punctuation+'\\n'"
   ]
  },
  {
   "cell_type": "code",
   "execution_count": 13,
   "metadata": {},
   "outputs": [],
   "source": [
    "word_frequencies={}\n",
    "for word in doc :\n",
    "    if word.text.lower() not in stopwords:\n",
    "        if word.text.lower() not in punctuation:\n",
    "            if word.text not in word_frequencies.keys():\n",
    "                word_frequencies[word.text]=1\n",
    "            else:\n",
    "                word_frequencies[word.text]+=1"
   ]
  },
  {
   "cell_type": "code",
   "execution_count": 15,
   "metadata": {},
   "outputs": [
    {
     "name": "stdout",
     "output_type": "stream",
     "text": [
      "{'general': 1, 'approaches': 1, 'automatic': 1, 'summarization': 5, 'extraction': 5, 'abstraction': 1, 'Extraction': 1, 'based': 2, 'content': 5, 'extracted': 4, 'original': 5, 'data': 1, 'modified': 1, 'way': 1, 'Examples': 1, 'include': 2, 'key': 3, 'phrases': 1, 'tag': 1, 'index': 1, 'text': 7, 'document': 4, 'sentences': 2, 'including': 2, 'headings': 2, 'collectively': 1, 'comprise': 1, 'abstract': 1, 'representative': 1, 'images': 1, 'video': 2, 'segments': 1, 'stated': 1, 'analogous': 1, 'process': 1, 'skimming': 1, 'summary': 2, 'available': 1, 'subheadings': 1, 'figures': 1, 'paragraphs': 1, 'section': 1, 'optionally': 1, 'paragraph': 1, 'read': 2, 'chooses': 1, 'entire': 1, 'detail.[7': 1, 'examples': 1, 'sequences': 1, 'terms': 1, 'clinical': 1, 'relevance': 1, 'patient': 1, 'problem': 1, 'intervention': 1, 'outcome).[8': 1, 'Abstractive': 3, 'methods': 2, 'generate': 1, 'new': 1, 'exist': 1, 'text.[9': 1, 'applied': 1, 'mainly': 1, 'build': 1, 'internal': 1, 'semantic': 1, 'representation': 2, 'called': 1, 'language': 2, 'model': 1, 'use': 1, 'create': 1, 'closer': 1, 'human': 1, 'express': 1, 'Abstraction': 1, 'transform': 1, 'paraphrasing': 1, 'sections': 1, 'source': 1, 'condense': 1, 'strongly': 1, 'transformation': 1, 'computationally': 1, 'challenging': 1, 'involving': 1, 'natural': 1, 'processing': 1, 'deep': 1, 'understanding': 1, 'domain': 1, 'cases': 1, 'relates': 1, 'special': 1, 'field': 1, 'knowledge': 1, 'Paraphrasing': 1, 'difficult': 1, 'apply': 1, 'image': 1, 'systems': 1, 'extractive': 1}\n"
     ]
    }
   ],
   "source": [
    "print(word_frequencies)"
   ]
  },
  {
   "cell_type": "code",
   "execution_count": 16,
   "metadata": {},
   "outputs": [
    {
     "data": {
      "text/plain": [
       "7"
      ]
     },
     "execution_count": 16,
     "metadata": {},
     "output_type": "execute_result"
    }
   ],
   "source": [
    "max_frequency = max(word_frequencies.values())\n",
    "max_frequency"
   ]
  },
  {
   "cell_type": "markdown",
   "metadata": {},
   "source": [
    "every frequency is divided by max freq to get normalize"
   ]
  },
  {
   "cell_type": "code",
   "execution_count": 17,
   "metadata": {},
   "outputs": [],
   "source": [
    "for word in word_frequencies.keys():\n",
    "    word_frequencies[word]= word_frequencies[word]/max_frequency"
   ]
  },
  {
   "cell_type": "code",
   "execution_count": 18,
   "metadata": {},
   "outputs": [
    {
     "name": "stdout",
     "output_type": "stream",
     "text": [
      "{'general': 0.14285714285714285, 'approaches': 0.14285714285714285, 'automatic': 0.14285714285714285, 'summarization': 0.7142857142857143, 'extraction': 0.7142857142857143, 'abstraction': 0.14285714285714285, 'Extraction': 0.14285714285714285, 'based': 0.2857142857142857, 'content': 0.7142857142857143, 'extracted': 0.5714285714285714, 'original': 0.7142857142857143, 'data': 0.14285714285714285, 'modified': 0.14285714285714285, 'way': 0.14285714285714285, 'Examples': 0.14285714285714285, 'include': 0.2857142857142857, 'key': 0.42857142857142855, 'phrases': 0.14285714285714285, 'tag': 0.14285714285714285, 'index': 0.14285714285714285, 'text': 1.0, 'document': 0.5714285714285714, 'sentences': 0.2857142857142857, 'including': 0.2857142857142857, 'headings': 0.2857142857142857, 'collectively': 0.14285714285714285, 'comprise': 0.14285714285714285, 'abstract': 0.14285714285714285, 'representative': 0.14285714285714285, 'images': 0.14285714285714285, 'video': 0.2857142857142857, 'segments': 0.14285714285714285, 'stated': 0.14285714285714285, 'analogous': 0.14285714285714285, 'process': 0.14285714285714285, 'skimming': 0.14285714285714285, 'summary': 0.2857142857142857, 'available': 0.14285714285714285, 'subheadings': 0.14285714285714285, 'figures': 0.14285714285714285, 'paragraphs': 0.14285714285714285, 'section': 0.14285714285714285, 'optionally': 0.14285714285714285, 'paragraph': 0.14285714285714285, 'read': 0.2857142857142857, 'chooses': 0.14285714285714285, 'entire': 0.14285714285714285, 'detail.[7': 0.14285714285714285, 'examples': 0.14285714285714285, 'sequences': 0.14285714285714285, 'terms': 0.14285714285714285, 'clinical': 0.14285714285714285, 'relevance': 0.14285714285714285, 'patient': 0.14285714285714285, 'problem': 0.14285714285714285, 'intervention': 0.14285714285714285, 'outcome).[8': 0.14285714285714285, 'Abstractive': 0.42857142857142855, 'methods': 0.2857142857142857, 'generate': 0.14285714285714285, 'new': 0.14285714285714285, 'exist': 0.14285714285714285, 'text.[9': 0.14285714285714285, 'applied': 0.14285714285714285, 'mainly': 0.14285714285714285, 'build': 0.14285714285714285, 'internal': 0.14285714285714285, 'semantic': 0.14285714285714285, 'representation': 0.2857142857142857, 'called': 0.14285714285714285, 'language': 0.2857142857142857, 'model': 0.14285714285714285, 'use': 0.14285714285714285, 'create': 0.14285714285714285, 'closer': 0.14285714285714285, 'human': 0.14285714285714285, 'express': 0.14285714285714285, 'Abstraction': 0.14285714285714285, 'transform': 0.14285714285714285, 'paraphrasing': 0.14285714285714285, 'sections': 0.14285714285714285, 'source': 0.14285714285714285, 'condense': 0.14285714285714285, 'strongly': 0.14285714285714285, 'transformation': 0.14285714285714285, 'computationally': 0.14285714285714285, 'challenging': 0.14285714285714285, 'involving': 0.14285714285714285, 'natural': 0.14285714285714285, 'processing': 0.14285714285714285, 'deep': 0.14285714285714285, 'understanding': 0.14285714285714285, 'domain': 0.14285714285714285, 'cases': 0.14285714285714285, 'relates': 0.14285714285714285, 'special': 0.14285714285714285, 'field': 0.14285714285714285, 'knowledge': 0.14285714285714285, 'Paraphrasing': 0.14285714285714285, 'difficult': 0.14285714285714285, 'apply': 0.14285714285714285, 'image': 0.14285714285714285, 'systems': 0.14285714285714285, 'extractive': 0.14285714285714285}\n"
     ]
    }
   ],
   "source": [
    "print(word_frequencies)"
   ]
  },
  {
   "cell_type": "code",
   "execution_count": 19,
   "metadata": {},
   "outputs": [
    {
     "name": "stdout",
     "output_type": "stream",
     "text": [
      "[There are two general approaches to automatic summarization: extraction and abstraction.\n",
      ", Extraction-based summarization\n",
      "Here, content is extracted from the original data, but the extracted content is not modified in any way., Examples of extracted content include key-phrases that can be used to \"tag\" or index a text document, or key sentences (including headings) that collectively comprise an abstract, and representative images or video segments, as stated above., For text, extraction is analogous to the process of skimming, where the summary (if available), headings and subheadings, figures, the first and last paragraphs of a section, and optionally the first and last sentences in a paragraph are read before one chooses to read the entire document in detail.[7], Other examples of extraction that include key sequences of text in terms of clinical relevance (including patient/problem, intervention, and outcome).[8]\n",
      "Abstractive-based summarization\n",
      "Abstractive summarization methods generate new text that did not exist in the original text.[9], This has been applied mainly for text., Abstractive methods build an internal semantic representation of the original content (often called a language model), and then use this representation to create a summary that is closer to what a human might express., Abstraction may transform the extracted content by paraphrasing sections of the source document, to condense a text more strongly than extraction., Such transformation, however, is computationally much more challenging than extraction, involving both natural language processing and often a deep understanding of the domain of the original text in cases where the original document relates to a special field of knowledge., \"Paraphrasing\" is even more difficult to apply to image and video, which is why most summarization systems are extractive.]\n"
     ]
    }
   ],
   "source": [
    "#sentence tokenization\n",
    "\n",
    "sentence_tokens = [sent for sent in doc.sents]\n",
    "print(sentence_tokens)"
   ]
  },
  {
   "cell_type": "code",
   "execution_count": 20,
   "metadata": {},
   "outputs": [],
   "source": [
    "sentence_score = {}\n",
    "for sent in sentence_tokens:\n",
    "    for word in sent:\n",
    "        if word.text.lower() in word_frequencies.keys():\n",
    "            if sent not in sentence_score.keys():\n",
    "                sentence_score[sent]=word_frequencies[word.text.lower()]\n",
    "            else:\n",
    "                sentence_score[sent]+=word_frequencies[word.text.lower()]\n",
    "\n"
   ]
  },
  {
   "cell_type": "code",
   "execution_count": 21,
   "metadata": {},
   "outputs": [
    {
     "data": {
      "text/plain": [
       "{There are two general approaches to automatic summarization: extraction and abstraction.: 2.0,\n",
       " Extraction-based summarization\n",
       " Here, content is extracted from the original data, but the extracted content is not modified in any way.: 5.42857142857143,\n",
       " Examples of extracted content include key-phrases that can be used to \"tag\" or index a text document, or key sentences (including headings) that collectively comprise an abstract, and representative images or video segments, as stated above.: 6.714285714285716,\n",
       " For text, extraction is analogous to the process of skimming, where the summary (if available), headings and subheadings, figures, the first and last paragraphs of a section, and optionally the first and last sentences in a paragraph are read before one chooses to read the entire document in detail.[7]: 5.571428571428571,\n",
       " Other examples of extraction that include key sequences of text in terms of clinical relevance (including patient/problem, intervention, and outcome).[8]\n",
       " Abstractive-based summarization\n",
       " Abstractive summarization methods generate new text that did not exist in the original text.[9]: 8.285714285714286,\n",
       " This has been applied mainly for text.: 1.2857142857142856,\n",
       " Abstractive methods build an internal semantic representation of the original content (often called a language model), and then use this representation to create a summary that is closer to what a human might express.: 4.285714285714286,\n",
       " Abstraction may transform the extracted content by paraphrasing sections of the source document, to condense a text more strongly than extraction.: 4.571428571428571,\n",
       " Such transformation, however, is computationally much more challenging than extraction, involving both natural language processing and often a deep understanding of the domain of the original text in cases where the original document relates to a special field of knowledge.: 6.000000000000001,\n",
       " \"Paraphrasing\" is even more difficult to apply to image and video, which is why most summarization systems are extractive.: 1.857142857142857}"
      ]
     },
     "execution_count": 21,
     "metadata": {},
     "output_type": "execute_result"
    }
   ],
   "source": [
    "sentence_score"
   ]
  },
  {
   "cell_type": "code",
   "execution_count": 22,
   "metadata": {},
   "outputs": [],
   "source": [
    "from  heapq import nlargest"
   ]
  },
  {
   "cell_type": "markdown",
   "metadata": {},
   "source": [
    "selecting sentences having higest score"
   ]
  },
  {
   "cell_type": "code",
   "execution_count": 23,
   "metadata": {},
   "outputs": [
    {
     "data": {
      "text/plain": [
       "3"
      ]
     },
     "execution_count": 23,
     "metadata": {},
     "output_type": "execute_result"
    }
   ],
   "source": [
    "select_length = int(len(sentence_tokens)*0.3)\n",
    "select_length"
   ]
  },
  {
   "cell_type": "code",
   "execution_count": 33,
   "metadata": {},
   "outputs": [
    {
     "data": {
      "text/plain": [
       "[Other examples of extraction that include key sequences of text in terms of clinical relevance (including patient/problem, intervention, and outcome).[8]\n",
       " Abstractive-based summarization\n",
       " Abstractive summarization methods generate new text that did not exist in the original text.[9],\n",
       " Examples of extracted content include key-phrases that can be used to \"tag\" or index a text document, or key sentences (including headings) that collectively comprise an abstract, and representative images or video segments, as stated above.,\n",
       " Such transformation, however, is computationally much more challenging than extraction, involving both natural language processing and often a deep understanding of the domain of the original text in cases where the original document relates to a special field of knowledge.]"
      ]
     },
     "execution_count": 33,
     "metadata": {},
     "output_type": "execute_result"
    }
   ],
   "source": [
    "summary = nlargest(select_length,sentence_score,key=sentence_score.get)\n",
    "summary"
   ]
  },
  {
   "cell_type": "code",
   "execution_count": 35,
   "metadata": {},
   "outputs": [
    {
     "name": "stdout",
     "output_type": "stream",
     "text": [
      "['Other examples of extraction that include key sequences of text in terms of clinical relevance (including patient/problem, intervention, and outcome).[8]\\nAbstractive-based summarization\\nAbstractive summarization methods generate new text that did not exist in the original text.[9]', 'Examples of extracted content include key-phrases that can be used to \"tag\" or index a text document, or key sentences (including headings) that collectively comprise an abstract, and representative images or video segments, as stated above.', 'Such transformation, however, is computationally much more challenging than extraction, involving both natural language processing and often a deep understanding of the domain of the original text in cases where the original document relates to a special field of knowledge.']\n"
     ]
    }
   ],
   "source": [
    "final_summary =[word.text for word in summary]\n",
    "print(final_summary)"
   ]
  },
  {
   "cell_type": "code",
   "execution_count": 28,
   "metadata": {},
   "outputs": [
    {
     "name": "stdout",
     "output_type": "stream",
     "text": [
      "Other examples of extraction that include key sequences of text in terms of clinical relevance (including patient/problem, intervention, and outcome).[8]\n",
      "Abstractive-based summarization\n",
      "Abstractive summarization methods generate new text that did not exist in the original text.[9] Examples of extracted content include key-phrases that can be used to \"tag\" or index a text document, or key sentences (including headings) that collectively comprise an abstract, and representative images or video segments, as stated above. Such transformation, however, is computationally much more challenging than extraction, involving both natural language processing and often a deep understanding of the domain of the original text in cases where the original document relates to a special field of knowledge.\n"
     ]
    }
   ],
   "source": [
    "summary = \" \".join(final_summary)\n",
    "print(summary)"
   ]
  }
 ],
 "metadata": {
  "kernelspec": {
   "display_name": "Python 3.10.4 64-bit",
   "language": "python",
   "name": "python3"
  },
  "language_info": {
   "codemirror_mode": {
    "name": "ipython",
    "version": 3
   },
   "file_extension": ".py",
   "mimetype": "text/x-python",
   "name": "python",
   "nbconvert_exporter": "python",
   "pygments_lexer": "ipython3",
   "version": "3.10.4"
  },
  "orig_nbformat": 4,
  "vscode": {
   "interpreter": {
    "hash": "946eb62ef8b0158e05b01142dbf4a8a7a83439ab19d0aedcf4b0f98ad4e9fbd2"
   }
  }
 },
 "nbformat": 4,
 "nbformat_minor": 2
}
